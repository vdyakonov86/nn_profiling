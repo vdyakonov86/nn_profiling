{
 "cells": [
  {
   "cell_type": "code",
   "execution_count": 1,
   "metadata": {},
   "outputs": [],
   "source": [
    "import onnx\n",
    "from onnxruntime.quantization import quantize_dynamic, quantize_static, QuantType, CalibrationDataReader,QuantFormat\n",
    "import cv2\n",
    "import numpy as np\n"
   ]
  },
  {
   "cell_type": "code",
   "execution_count": 2,
   "metadata": {},
   "outputs": [
    {
     "name": "stderr",
     "output_type": "stream",
     "text": [
      "WARNING:root:Please consider to run pre-processing before quantization. Refer to example: https://github.com/microsoft/onnxruntime-inference-examples/blob/main/quantization/image_classification/cpu/ReadMe.md \n"
     ]
    }
   ],
   "source": [
    "model_path = '/container_root/ws/models/yolo11n-seg.onnx'\n",
    "model = onnx.load('/container_root/ws/models/yolo11n-seg.onnx')\n",
    "\n",
    "model_fp32 = model_path\n",
    "model_quant = '/container_root/ws/models/yolo11n-seg.quant.onnx'\n",
    "quantized_model = quantize_dynamic(model_fp32, model_quant)\n"
   ]
  },
  {
   "cell_type": "code",
   "execution_count": 3,
   "metadata": {},
   "outputs": [],
   "source": [
    "!python -m onnxruntime.quantization.preprocess --input /container_root/ws/models/yolo11n-seg.onnx --output preprocessed.onnx"
   ]
  },
  {
   "cell_type": "code",
   "execution_count": 5,
   "metadata": {},
   "outputs": [],
   "source": [
    "model_fp32 = 'preprocessed.onnx'\n",
    "model_int8 = 'dynamic_quantized.onnx'\n",
    "\n",
    "# Quantize \n",
    "quantize_dynamic(model_fp32, model_int8, weight_type=QuantType.QUInt8)"
   ]
  },
  {
   "cell_type": "code",
   "execution_count": 10,
   "metadata": {},
   "outputs": [
    {
     "name": "stdout",
     "output_type": "stream",
     "text": [
      "['/container_root/ws/images_calibrating/1341846655.242079.png', '/container_root/ws/images_calibrating/1341846650.550746.png', '/container_root/ws/images_calibrating/1341846650.650422.png', '/container_root/ws/images_calibrating/1341846654.706022.png', '/container_root/ws/images_calibrating/1341846648.570179.png', '/container_root/ws/images_calibrating/1341846654.670155.png', '/container_root/ws/images_calibrating/1341846653.530205.png', '/container_root/ws/images_calibrating/1341846648.470076.png', '/container_root/ws/images_calibrating/1341846655.106132.png', '/container_root/ws/images_calibrating/1341846652.290189.png', '/container_root/ws/images_calibrating/1341846652.090106.png', '/container_root/ws/images_calibrating/1341846650.246084.png', '/container_root/ws/images_calibrating/1341846651.890237.png', '/container_root/ws/images_calibrating/1341846648.138185.png', '/container_root/ws/images_calibrating/1341846648.805941.png', '/container_root/ws/images_calibrating/1341846652.426287.png', '/container_root/ws/images_calibrating/1341846650.582069.png', '/container_root/ws/images_calibrating/1341846648.774049.png', '/container_root/ws/images_calibrating/1341846651.560316.png', '/container_root/ws/images_calibrating/1341846653.966155.png', '/container_root/ws/images_calibrating/1341846648.034343.png', '/container_root/ws/images_calibrating/1341846649.646135.png', '/container_root/ws/images_calibrating/1341846649.248048.png', '/container_root/ws/images_calibrating/1341846654.738497.png', '/container_root/ws/images_calibrating/1341846651.254031.png', '/container_root/ws/images_calibrating/1341846648.202106.png', '/container_root/ws/images_calibrating/1341846655.778076.png', '/container_root/ws/images_calibrating/1341846652.594254.png', '/container_root/ws/images_calibrating/1341846647.834093.png', '/container_root/ws/images_calibrating/1341846655.274211.png', '/container_root/ws/images_calibrating/1341846654.570053.png', '/container_root/ws/images_calibrating/1341846653.298380.png', '/container_root/ws/images_calibrating/1341846649.516198.png', '/container_root/ws/images_calibrating/1341846648.270152.png', '/container_root/ws/images_calibrating/1341846650.146137.png', '/container_root/ws/images_calibrating/1341846649.484154.png', '/container_root/ws/images_calibrating/1341846652.562089.png', '/container_root/ws/images_calibrating/1341846651.790200.png', '/container_root/ws/images_calibrating/1341846653.062672.png', '/container_root/ws/images_calibrating/1341846648.406052.png', '/container_root/ws/images_calibrating/1341846649.006157.png', '/container_root/ws/images_calibrating/1341846655.642348.png', '/container_root/ws/images_calibrating/1341846650.514091.png', '/container_root/ws/images_calibrating/1341846653.866214.png', '/container_root/ws/images_calibrating/1341846655.142070.png', '/container_root/ws/images_calibrating/1341846655.310175.png', '/container_root/ws/images_calibrating/1341846649.074128.png', '/container_root/ws/images_calibrating/1341846652.662152.png', '/container_root/ws/images_calibrating/1341846650.618092.png', '/container_root/ws/images_calibrating/1341846648.438342.png', '/container_root/ws/images_calibrating/1341846654.402172.png', '/container_root/ws/images_calibrating/1341846654.470186.png', '/container_root/ws/images_calibrating/1341846651.318309.png', '/container_root/ws/images_calibrating/1341846649.416053.png', '/container_root/ws/images_calibrating/1341846652.326148.png', '/container_root/ws/images_calibrating/1341846647.934224.png', '/container_root/ws/images_calibrating/1341846653.398226.png', '/container_root/ws/images_calibrating/1341846652.830250.png', '/container_root/ws/images_calibrating/1341846648.838602.png', '/container_root/ws/images_calibrating/1341846652.394279.png', '/container_root/ws/images_calibrating/1341846649.914184.png', '/container_root/ws/images_calibrating/1341846655.206124.png', '/container_root/ws/images_calibrating/1341846650.986247.png', '/container_root/ws/images_calibrating/1341846651.822233.png', '/container_root/ws/images_calibrating/1341846655.374134.png', '/container_root/ws/images_calibrating/1341846653.430060.png', '/container_root/ws/images_calibrating/1341846651.218036.png', '/container_root/ws/images_calibrating/1341846651.118423.png', '/container_root/ws/images_calibrating/1341846648.738116.png', '/container_root/ws/images_calibrating/1341846648.706058.png', '/container_root/ws/images_calibrating/1341846648.238157.png', '/container_root/ws/images_calibrating/1341846655.174000.png', '/container_root/ws/images_calibrating/1341846650.382075.png', '/container_root/ws/images_calibrating/1341846654.170244.png', '/container_root/ws/images_calibrating/1341846655.542135.png', '/container_root/ws/images_calibrating/1341846652.794152.png', '/container_root/ws/images_calibrating/1341846648.638395.png', '/container_root/ws/images_calibrating/1341846655.442262.png', '/container_root/ws/images_calibrating/1341846651.858213.png', '/container_root/ws/images_calibrating/1341846654.034140.png', '/container_root/ws/images_calibrating/1341846652.058058.png', '/container_root/ws/images_calibrating/1341846651.386180.png', '/container_root/ws/images_calibrating/1341846654.002169.png', '/container_root/ws/images_calibrating/1341846647.901972.png', '/container_root/ws/images_calibrating/1341846654.134349.png', '/container_root/ws/images_calibrating/1341846653.162620.png', '/container_root/ws/images_calibrating/1341846652.694113.png', '/container_root/ws/images_calibrating/1341846649.778019.png', '/container_root/ws/images_calibrating/1341846651.922186.png', '/container_root/ws/images_calibrating/1341846655.510277.png', '/container_root/ws/images_calibrating/1341846650.282167.png', '/container_root/ws/images_calibrating/1341846651.622176.png', '/container_root/ws/images_calibrating/1341846650.350453.png', '/container_root/ws/images_calibrating/1341846649.142042.png', '/container_root/ws/images_calibrating/1341846653.262357.png', '/container_root/ws/images_calibrating/1341846653.099024.png', '/container_root/ws/images_calibrating/1341846654.637980.png', '/container_root/ws/images_calibrating/1341846651.492135.png', '/container_root/ws/images_calibrating/1341846652.022081.png', '/container_root/ws/images_calibrating/1341846649.174442.png', '/container_root/ws/images_calibrating/1341846651.286406.png', '/container_root/ws/images_calibrating/1341846655.006124.png', '/container_root/ws/images_calibrating/1341846647.766393.png', '/container_root/ws/images_calibrating/1341846650.214164.png', '/container_root/ws/images_calibrating/1341846653.698738.png', '/container_root/ws/images_calibrating/1341846649.710937.png', '/container_root/ws/images_calibrating/1341846653.934160.png', '/container_root/ws/images_calibrating/1341846649.552101.png', '/container_root/ws/images_calibrating/1341846654.438133.png', '/container_root/ws/images_calibrating/1341846654.369979.png', '/container_root/ws/images_calibrating/1341846651.422237.png', '/container_root/ws/images_calibrating/1341846655.748050.png', '/container_root/ws/images_calibrating/1341846653.802358.png', '/container_root/ws/images_calibrating/1341846649.810257.png', '/container_root/ws/images_calibrating/1341846653.634793.png', '/container_root/ws/images_calibrating/1341846648.674053.png', '/container_root/ws/images_calibrating/1341846654.234434.png', '/container_root/ws/images_calibrating/1341846652.494100.png', '/container_root/ws/images_calibrating/1341846654.302117.png', '/container_root/ws/images_calibrating/1341846654.938214.png', '/container_root/ws/images_calibrating/1341846651.690127.png', '/container_root/ws/images_calibrating/1341846650.886238.png', '/container_root/ws/images_calibrating/1341846652.962213.png', '/container_root/ws/images_calibrating/1341846648.370216.png', '/container_root/ws/images_calibrating/1341846651.354135.png', '/container_root/ws/images_calibrating/1341846651.522099.png', '/container_root/ws/images_calibrating/1341846654.202087.png', '/container_root/ws/images_calibrating/1341846652.190049.png', '/container_root/ws/images_calibrating/1341846650.750112.png', '/container_root/ws/images_calibrating/1341846650.314158.png', '/container_root/ws/images_calibrating/1341846654.539064.png', '/container_root/ws/images_calibrating/1341846648.906165.png', '/container_root/ws/images_calibrating/1341846653.366319.png', '/container_root/ws/images_calibrating/1341846650.782116.png', '/container_root/ws/images_calibrating/1341846651.654223.png', '/container_root/ws/images_calibrating/1341846648.170568.png', '/container_root/ws/images_calibrating/1341846653.598213.png', '/container_root/ws/images_calibrating/1341846648.302183.png', '/container_root/ws/images_calibrating/1341846652.158232.png', '/container_root/ws/images_calibrating/1341846652.258089.png', '/container_root/ws/images_calibrating/1341846648.002341.png', '/container_root/ws/images_calibrating/1341846653.130475.png', '/container_root/ws/images_calibrating/1341846653.834226.png', '/container_root/ws/images_calibrating/1341846654.338026.png', '/container_root/ws/images_calibrating/1341846649.316071.png', '/container_root/ws/images_calibrating/1341846650.682114.png', '/container_root/ws/images_calibrating/1341846649.678101.png', '/container_root/ws/images_calibrating/1341846654.974334.png', '/container_root/ws/images_calibrating/1341846652.126257.png', '/container_root/ws/images_calibrating/1341846649.383973.png', '/container_root/ws/images_calibrating/1341846653.666143.png', '/container_root/ws/images_calibrating/1341846655.578132.png', '/container_root/ws/images_calibrating/1341846652.894426.png', '/container_root/ws/images_calibrating/1341846655.474205.png', '/container_root/ws/images_calibrating/1341846655.710074.png', '/container_root/ws/images_calibrating/1341846648.338170.png', '/container_root/ws/images_calibrating/1341846648.874088.png', '/container_root/ws/images_calibrating/1341846648.606081.png', '/container_root/ws/images_calibrating/1341846647.734820.png', '/container_root/ws/images_calibrating/1341846650.950233.png', '/container_root/ws/images_calibrating/1341846653.734313.png', '/container_root/ws/images_calibrating/1341846649.106188.png', '/container_root/ws/images_calibrating/1341846652.626356.png', '/container_root/ws/images_calibrating/1341846647.802247.png', '/container_root/ws/images_calibrating/1341846651.018106.png', '/container_root/ws/images_calibrating/1341846655.610085.png', '/container_root/ws/images_calibrating/1341846651.186391.png', '/container_root/ws/images_calibrating/1341846652.358184.png', '/container_root/ws/images_calibrating/1341846653.766275.png', '/container_root/ws/images_calibrating/1341846648.974090.png', '/container_root/ws/images_calibrating/1341846654.806040.png', '/container_root/ws/images_calibrating/1341846652.458277.png', '/container_root/ws/images_calibrating/1341846655.410207.png', '/container_root/ws/images_calibrating/1341846654.070172.png', '/container_root/ws/images_calibrating/1341846648.538249.png', '/container_root/ws/images_calibrating/1341846651.590585.png', '/container_root/ws/images_calibrating/1341846649.280075.png', '/container_root/ws/images_calibrating/1341846647.866652.png', '/container_root/ws/images_calibrating/1341846650.414224.png', '/container_root/ws/images_calibrating/1341846653.902170.png', '/container_root/ws/images_calibrating/1341846649.952612.png', '/container_root/ws/images_calibrating/1341846650.114215.png', '/container_root/ws/images_calibrating/1341846653.330162.png', '/container_root/ws/images_calibrating/1341846650.718110.png', '/container_root/ws/images_calibrating/1341846650.450353.png', '/container_root/ws/images_calibrating/1341846651.754212.png', '/container_root/ws/images_calibrating/1341846655.342236.png', '/container_root/ws/images_calibrating/1341846652.526469.png', '/container_root/ws/images_calibrating/1341846654.838060.png', '/container_root/ws/images_calibrating/1341846650.014156.png', '/container_root/ws/images_calibrating/1341846651.958047.png', '/container_root/ws/images_calibrating/1341846649.448084.png', '/container_root/ws/images_calibrating/1341846649.846059.png', '/container_root/ws/images_calibrating/1341846654.906209.png', '/container_root/ws/images_calibrating/1341846651.086169.png', '/container_root/ws/images_calibrating/1341846654.606030.png', '/container_root/ws/images_calibrating/1341846653.566601.png', '/container_root/ws/images_calibrating/1341846654.502267.png', '/container_root/ws/images_calibrating/1341846653.030292.png', '/container_root/ws/images_calibrating/1341846652.225981.png', '/container_root/ws/images_calibrating/1341846649.978335.png', '/container_root/ws/images_calibrating/1341846653.498194.png', '/container_root/ws/images_calibrating/1341846653.198437.png', '/container_root/ws/images_calibrating/1341846649.746112.png', '/container_root/ws/images_calibrating/1341846650.918288.png', '/container_root/ws/images_calibrating/1341846649.878137.png', '/container_root/ws/images_calibrating/1341846652.994687.png', '/container_root/ws/images_calibrating/1341846655.678110.png', '/container_root/ws/images_calibrating/1341846651.722318.png', '/container_root/ws/images_calibrating/1341846648.070164.png', '/container_root/ws/images_calibrating/1341846655.042239.png', '/container_root/ws/images_calibrating/1341846651.990020.png', '/container_root/ws/images_calibrating/1341846654.874136.png', '/container_root/ws/images_calibrating/1341846652.726378.png', '/container_root/ws/images_calibrating/1341846652.930346.png', '/container_root/ws/images_calibrating/1341846650.850139.png', '/container_root/ws/images_calibrating/1341846651.050482.png', '/container_root/ws/images_calibrating/1341846649.616167.png', '/container_root/ws/images_calibrating/1341846653.230042.png', '/container_root/ws/images_calibrating/1341846649.216152.png', '/container_root/ws/images_calibrating/1341846650.078250.png', '/container_root/ws/images_calibrating/1341846650.484849.png', '/container_root/ws/images_calibrating/1341846649.348041.png', '/container_root/ws/images_calibrating/1341846654.270041.png', '/container_root/ws/images_calibrating/1341846653.466341.png', '/container_root/ws/images_calibrating/1341846647.970225.png', '/container_root/ws/images_calibrating/1341846654.774056.png', '/container_root/ws/images_calibrating/1341846648.506263.png', '/container_root/ws/images_calibrating/1341846654.102438.png', '/container_root/ws/images_calibrating/1341846650.046184.png', '/container_root/ws/images_calibrating/1341846650.182236.png', '/container_root/ws/images_calibrating/1341846655.074179.png', '/container_root/ws/images_calibrating/1341846655.810222.png', '/container_root/ws/images_calibrating/1341846652.862014.png', '/container_root/ws/images_calibrating/1341846648.942154.png', '/container_root/ws/images_calibrating/1341846648.102152.png', '/container_root/ws/images_calibrating/1341846651.154189.png', '/container_root/ws/images_calibrating/1341846652.762129.png', '/container_root/ws/images_calibrating/1341846649.042101.png', '/container_root/ws/images_calibrating/1341846650.818115.png']\n"
     ]
    }
   ],
   "source": [
    "model_path = '/container_root/ws/models/yolo11n-seg.onnx'\n",
    "model = onnx.load('/container_root/ws/models/yolo11n-seg.onnx')\n",
    "\n",
    "# Class for Callibration Data reading\n",
    "class ImageCalibrationDataReader(CalibrationDataReader):\n",
    "    def __init__(self, image_paths):\n",
    "        self.image_paths = image_paths\n",
    "        self.idx = 0\n",
    "        self.input_name = \"images\"\n",
    "\n",
    "    def preprocess(self, frame):\n",
    "        # Same preprocessing that you do before feeding it to the model\n",
    "        frame = cv2.imread(frame)\n",
    "        X = cv2.resize(frame, (640, 640))\n",
    "        image_data = np.array(X).astype(np.float32) / 255.0  # Normalize to [0, 1] range\n",
    "        image_data = np.transpose(image_data, (2, 0, 1))  # (H, W, C) -> (C, H, W)\n",
    "        image_data = np.expand_dims(image_data, axis=0)  # Add batch dimension\n",
    "        return image_data\n",
    "\n",
    "    def get_next(self):\n",
    "        # method to iterate through the data set\n",
    "        if self.idx >= len(self.image_paths):\n",
    "            return None\n",
    "\n",
    "        image_path = self.image_paths[self.idx]\n",
    "        input_data = self.preprocess(image_path)\n",
    "        self.idx += 1\n",
    "        return {self.input_name: input_data}\n",
    "\n",
    "# Assuming you have a list of image paths for calibration\n",
    "\n",
    "# calibration_image_paths = ['./data/bus.jpg'] # you can add more of the image paths\n",
    "mypath = '/container_root/ws/images_calibrating'\n",
    "from os import listdir\n",
    "from os.path import isfile, join\n",
    "calibration_image_paths = [mypath + '/' + f for f in listdir(mypath) if isfile(join(mypath, f))]\n",
    "\n",
    "print(calibration_image_paths)\n",
    "# Create an instance of the ImageCalibrationDataReader\n",
    "calibration_data_reader = ImageCalibrationDataReader(calibration_image_paths)"
   ]
  },
  {
   "cell_type": "code",
   "execution_count": 11,
   "metadata": {},
   "outputs": [],
   "source": [
    "# Use the calibration_data_reader with quantize_static\n",
    "quantize_static('preprocessed.onnx', \"static_quantized.onnx\",\n",
    "\t\t\t\tweight_type=QuantType.QInt8,\n",
    "\t\t\t\tactivation_type=QuantType.QUInt8,\n",
    "\t\t\t\tcalibration_data_reader=calibration_data_reader,\n",
    "\t\t\t\tquant_format=QuantFormat.QDQ,\n",
    "\t\t\t\tnodes_to_exclude=['/model.22/Concat_3', '/model.22/Split', '/model.22/Sigmoid'\n",
    "\t\t\t\t\t\t\t\t\t\t\t\t\t'/model.22/dfl/Reshape', '/model.22/dfl/Transpose', '/model.22/dfl/Softmax', \n",
    "\t\t\t\t\t\t\t\t\t\t\t\t\t'/model.22/dfl/conv/Conv', '/model.22/dfl/Reshape_1', '/model.22/Slice_1',\n",
    "\t\t\t\t\t\t\t\t\t\t\t\t\t'/model.22/Slice', '/model.22/Add_1', '/model.22/Sub', '/model.22/Div_1',\n",
    "\t\t\t\t\t\t\t\t\t\t\t\t\t'/model.22/Concat_4', '/model.22/Mul_2', '/model.22/Concat_5'],\n",
    "\t\t\t\tper_channel=False,\n",
    "\t\t\t\treduce_range=True,)"
   ]
  }
 ],
 "metadata": {
  "kernelspec": {
   "display_name": "Python 3",
   "language": "python",
   "name": "python3"
  },
  "language_info": {
   "codemirror_mode": {
    "name": "ipython",
    "version": 3
   },
   "file_extension": ".py",
   "mimetype": "text/x-python",
   "name": "python",
   "nbconvert_exporter": "python",
   "pygments_lexer": "ipython3",
   "version": "3.11.11"
  }
 },
 "nbformat": 4,
 "nbformat_minor": 2
}
