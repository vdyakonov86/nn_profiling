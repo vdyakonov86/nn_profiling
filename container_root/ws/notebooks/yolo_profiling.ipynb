{
 "cells": [
  {
   "cell_type": "code",
   "execution_count": 2,
   "metadata": {},
   "outputs": [],
   "source": [
    "from ultralytics import YOLO"
   ]
  },
  {
   "cell_type": "markdown",
   "metadata": {},
   "source": [
    "# 1. Обучение модели\n",
    "\n",
    "Беру обученную на датасете COCO модель "
   ]
  },
  {
   "cell_type": "code",
   "execution_count": null,
   "metadata": {},
   "outputs": [],
   "source": [
    "# model = YOLO('/container_root/ws/models/yolo11n-seg.pt')\n",
    "# seg_res = model(path_to_image)"
   ]
  },
  {
   "cell_type": "markdown",
   "metadata": {},
   "source": [
    "# 2. Профилирование модели PyTorch"
   ]
  },
  {
   "cell_type": "code",
   "execution_count": 3,
   "metadata": {},
   "outputs": [],
   "source": [
    "import torch\n",
    "import torchvision.models as models\n",
    "from torch.profiler import profile, record_function, ProfilerActivity"
   ]
  },
  {
   "cell_type": "code",
   "execution_count": 6,
   "metadata": {},
   "outputs": [],
   "source": [
    "model = YOLO('/container_root/ws/models/yolo11n-seg.pt')\n",
    "img_path = '/container_root/ws/notebooks/data/bus.jpg'"
   ]
  },
  {
   "cell_type": "markdown",
   "metadata": {},
   "source": [
    "## Анализ времени выполнения"
   ]
  },
  {
   "cell_type": "code",
   "execution_count": 9,
   "metadata": {},
   "outputs": [
    {
     "name": "stdout",
     "output_type": "stream",
     "text": [
      "\n",
      "image 1/1 /container_root/ws/notebooks/data/bus.jpg: 640x480 4 persons, 1 bus, 1 stop sign, 173.7ms\n",
      "Speed: 3.0ms preprocess, 173.7ms inference, 13.1ms postprocess per image at shape (1, 3, 640, 480)\n",
      "-------------------------------------------  ------------  ------------  ------------  ------------  ------------  ------------  \n",
      "                                       Name    Self CPU %      Self CPU   CPU total %     CPU total  CPU time avg    # of Calls  \n",
      "-------------------------------------------  ------------  ------------  ------------  ------------  ------------  ------------  \n",
      "                            model_inference        25.35%     110.630ms       100.00%     436.444ms     436.444ms             1  \n",
      "                   aten::mkldnn_convolution        24.44%     106.652ms        24.75%     108.024ms       1.228ms            88  \n",
      "                                   aten::mm        20.73%      90.458ms        20.75%      90.572ms     500.400us           181  \n",
      "                             aten::uniform_         5.55%      24.240ms         5.55%      24.240ms     134.664us           180  \n",
      "                                aten::silu_         4.08%      17.796ms         4.08%      17.796ms     206.925us            86  \n",
      "                                aten::copy_         3.11%      13.575ms         3.11%      13.575ms      25.907us           524  \n",
      "                                 aten::sqrt         3.04%      13.250ms         3.04%      13.250ms      73.611us           180  \n",
      "                                  aten::cat         2.30%      10.019ms         2.44%      10.641ms     343.257us            31  \n",
      "                 aten::_slow_conv2d_forward         1.13%       4.951ms         1.23%       5.362ms     446.842us            12  \n",
      "                  aten::upsample_bilinear2d         1.05%       4.562ms         1.05%       4.582ms       4.582ms             1  \n",
      "                                  aten::add         0.93%       4.051ms         1.70%       7.434ms      25.286us           294  \n",
      "                                  aten::gt_         0.88%       3.839ms         0.89%       3.866ms       3.866ms             1  \n",
      "                         aten::_convolution         0.87%       3.804ms        27.50%     120.011ms       1.188ms           101  \n",
      "              aten::max_pool2d_with_indices         0.58%       2.551ms         0.58%       2.551ms     850.221us             3  \n",
      "                                aten::empty         0.53%       2.301ms         0.53%       2.301ms       3.797us           606  \n",
      "                   aten::upsample_nearest2d         0.53%       2.295ms         1.32%       5.781ms       2.891ms             2  \n",
      "                                 aten::view         0.44%       1.922ms         0.44%       1.922ms       4.676us           411  \n",
      "                             aten::_to_copy         0.37%       1.599ms         0.85%       3.698ms      17.696us           209  \n",
      "                                aten::fill_         0.33%       1.441ms         0.33%       1.441ms      65.519us            22  \n",
      "                                  aten::mul         0.31%       1.367ms         0.37%       1.635ms      16.687us            98  \n",
      "                                  aten::div         0.26%       1.116ms         0.26%       1.145ms       6.292us           182  \n",
      "                                aten::zeros         0.24%       1.049ms         0.81%       3.514ms      19.200us           183  \n",
      "                           aten::diag_embed         0.22%     978.013us         1.11%       4.860ms      54.004us            90  \n",
      "                                   aten::to         0.21%     916.385us         1.06%       4.615ms       3.968us          1163  \n",
      "                               aten::conv2d         0.15%     653.378us        26.54%     115.829ms       1.158ms           100  \n",
      "                                     detach         0.14%     603.657us         0.14%     603.657us       3.354us           180  \n",
      "                        aten::empty_strided         0.14%     603.162us         0.14%     603.162us       2.859us           211  \n",
      "                          aten::convolution         0.14%     601.201us        27.64%     120.612ms       1.194ms           101  \n",
      "                                  aten::bmm         0.13%     577.384us         0.13%     578.798us     289.399us             2  \n",
      "                                  aten::sub         0.13%     573.702us         0.13%     573.702us       6.039us            95  \n",
      "                             aten::diagonal         0.13%     549.301us         0.18%     789.291us       8.770us            90  \n",
      "                          aten::as_strided_         0.12%     515.153us         0.12%     515.153us       5.661us            91  \n",
      "                           aten::as_strided         0.11%     496.200us         0.11%     496.200us       1.590us           312  \n",
      "                                aten::slice         0.11%     476.882us         0.15%     636.847us       5.015us           127  \n",
      "                               aten::detach         0.11%     470.454us         0.25%       1.074ms       5.902us           182  \n",
      "                                  aten::sum         0.11%     469.465us         0.12%     538.563us     179.521us             3  \n",
      "                              aten::reshape         0.10%     429.230us         0.22%     943.425us       4.717us           200  \n",
      "                             aten::_softmax         0.10%     421.151us         0.14%     594.036us     297.018us             2  \n",
      "                                aten::zero_         0.09%     382.293us         0.41%       1.796ms       9.814us           183  \n",
      "                               aten::narrow         0.08%     340.538us         0.18%     806.933us       9.275us            87  \n",
      "                                 aten::diag         0.07%     306.418us         1.18%       5.167ms      57.408us            90  \n",
      "                              aten::sigmoid         0.06%     258.957us         0.06%     258.957us     258.957us             1  \n",
      "    aten::_has_compatible_shallow_copy_type         0.06%     254.823us         0.06%     254.823us       0.190us          1344  \n",
      "                                 aten::amax         0.05%     203.373us         0.05%     210.526us     210.526us             1  \n",
      "                                 aten::div_         0.05%     203.362us         0.06%     248.898us     124.449us             2  \n",
      "                               aten::select         0.04%     195.352us         0.05%     236.866us       5.264us            45  \n",
      "                              aten::resize_         0.04%     166.114us         0.04%     166.114us       1.483us           112  \n",
      "                         aten::resolve_conj         0.03%     115.249us         0.03%     115.249us       0.314us           367  \n",
      "                               aten::arange         0.02%     101.671us         0.05%     205.768us      10.288us            20  \n",
      "                                aten::clone         0.02%      66.814us         1.23%       5.361ms     487.339us            11  \n",
      "                                aten::index         0.02%      65.864us         0.03%     136.055us      45.352us             3  \n",
      "                            aten::unsqueeze         0.01%      60.265us         0.02%      74.883us       5.760us            13  \n",
      "                                   aten::gt         0.01%      59.121us         0.02%      90.229us      18.046us             5  \n",
      "                           aten::empty_like         0.01%      57.701us         0.03%     113.044us       9.420us            12  \n",
      "                                 aten::sub_         0.01%      52.379us         0.03%     129.884us      32.471us             4  \n",
      "                           torchvision::nms         0.01%      50.618us         0.03%     151.805us     151.805us             1  \n",
      "                          aten::thnn_conv2d         0.01%      47.540us         1.24%       5.410ms     450.804us            12  \n",
      "                                aten::split         0.01%      47.489us         0.05%     226.845us      22.684us            10  \n",
      "                                 aten::sort         0.01%      46.095us         0.02%      91.662us      45.831us             2  \n",
      "                                aten::chunk         0.01%      44.457us         0.06%     271.302us      27.130us            10  \n",
      "                              aten::nonzero         0.01%      43.119us         0.01%      50.495us      25.247us             2  \n",
      "                                   aten::eq         0.01%      34.945us         0.01%      34.945us      11.648us             3  \n",
      "                               aten::matmul         0.01%      34.417us         0.26%       1.139ms     379.721us             3  \n",
      "                                  aten::max         0.01%      29.144us         0.01%      32.892us      16.446us             2  \n",
      "                     aten::split_with_sizes         0.01%      29.004us         0.01%      38.711us       9.678us             4  \n",
      "                                aten::clamp         0.01%      27.120us         0.01%      28.193us       7.048us             4  \n",
      "                           aten::max_pool2d         0.01%      25.888us         0.59%       2.577ms     858.851us             3  \n",
      "                               aten::unbind         0.01%      25.470us         0.01%      62.919us      15.730us             4  \n",
      "                             aten::_unique2         0.01%      25.228us         0.03%     136.687us     136.687us             1  \n",
      "                             aten::meshgrid         0.01%      23.196us         0.01%      47.801us      15.934us             3  \n",
      "                           aten::contiguous         0.01%      23.081us         1.22%       5.304ms     589.372us             9  \n",
      "                            aten::transpose         0.01%      22.623us         0.01%      29.336us       4.889us             6  \n",
      "                               aten::expand         0.01%      22.492us         0.01%      30.466us       3.047us            10  \n",
      "                                 aten::item         0.00%      21.622us         0.01%      32.491us       2.499us            13  \n",
      "                                 aten::mul_         0.00%      21.541us         0.01%      53.401us      13.350us             4  \n",
      "                                aten::stack         0.00%      13.805us         0.03%     121.800us      40.600us             3  \n",
      "                                   aten::ge         0.00%      12.985us         0.00%      12.985us       6.493us             2  \n",
      "                  aten::_local_scalar_dense         0.00%      10.869us         0.00%      10.869us       0.836us            13  \n",
      "                                 aten::full         0.00%      10.829us         0.01%      25.798us       8.599us             3  \n",
      "                                 aten::ones         0.00%      10.349us         0.00%      20.128us      10.064us             2  \n",
      "                                   aten::lt         0.00%       9.848us         0.00%       9.848us       4.924us             2  \n",
      "                              aten::softmax         0.00%       8.556us         0.14%     602.592us     301.296us             2  \n",
      "                    aten::_nnpack_available         0.00%       7.192us         0.00%       7.192us       0.599us            12  \n",
      "                     aten::conv_transpose2d         0.00%       6.784us         1.25%       5.443ms       5.443ms             1  \n",
      "                         aten::_unsafe_view         0.00%       4.306us         0.00%       4.306us       1.435us             3  \n",
      "                       aten::_reshape_alias         0.00%       4.158us         0.00%       4.158us       1.039us             4  \n",
      "                                aten::alias         0.00%       2.886us         0.00%       2.886us       2.886us             1  \n",
      "                           aten::lift_fresh         0.00%       2.053us         0.00%       2.053us       2.053us             1  \n",
      "                              aten::flatten         0.00%       0.671us         0.00%       0.671us       0.671us             1  \n",
      "-------------------------------------------  ------------  ------------  ------------  ------------  ------------  ------------  \n",
      "Self CPU time total: 436.444ms\n",
      "\n"
     ]
    }
   ],
   "source": [
    "\n",
    "model = YOLO('/container_root/ws/models/yolo11n-seg.pt')\n",
    "with profile(activities=[ProfilerActivity.CPU], record_shapes=True) as prof:\n",
    "    with record_function(\"model_inference\"):\n",
    "        model(img_path)\n",
    "\n",
    "# print(prof.key_averages(group_by_input_shape=True).table(sort_by=\"self_cpu_time_total\", row_limit=100))\n",
    "print(prof.key_averages().table(sort_by=\"self_cpu_time_total\", row_limit=100))"
   ]
  },
  {
   "cell_type": "markdown",
   "metadata": {},
   "source": [
    "## Анализ потребления памяти"
   ]
  },
  {
   "cell_type": "code",
   "execution_count": 23,
   "metadata": {},
   "outputs": [
    {
     "name": "stdout",
     "output_type": "stream",
     "text": [
      "\n",
      "image 1/1 /container_root/ws/notebooks/bus.jpg: 640x480 4 persons, 1 bus, 1 stop sign, 177.1ms\n",
      "Speed: 4.3ms preprocess, 177.1ms inference, 6.6ms postprocess per image at shape (1, 3, 640, 480)\n",
      "---------------------------------  ------------  ------------  ------------  ------------  ------------  ------------  ------------  ------------  \n",
      "                             Name    Self CPU %      Self CPU   CPU total %     CPU total  CPU time avg       CPU Mem  Self CPU Mem    # of Calls  \n",
      "---------------------------------  ------------  ------------  ------------  ------------  ------------  ------------  ------------  ------------  \n",
      "                      aten::empty         0.76%       1.573ms         0.76%       1.573ms       6.666us      78.86 Mb      78.86 Mb           236  \n",
      "                        aten::cat         3.82%       7.864ms         4.12%       8.500ms     326.904us      32.38 Mb      32.38 Mb            26  \n",
      "        aten::upsample_bilinear2d         1.40%       2.878ms         1.40%       2.894ms       2.894ms       7.03 Mb       7.01 Mb             1  \n",
      "                        aten::add         0.30%     624.370us         0.30%     624.370us      34.687us       4.10 Mb       4.10 Mb            18  \n",
      "              aten::empty_strided         0.04%      86.964us         0.04%      86.964us       3.479us       4.05 Mb       4.05 Mb            25  \n",
      "         aten::upsample_nearest2d         0.15%     307.547us         0.38%     782.096us     391.048us       3.52 Mb       2.05 Mb             2  \n",
      "                    aten::sigmoid         0.10%     212.564us         0.10%     212.564us     212.564us       1.92 Mb       1.92 Mb             1  \n",
      "    aten::max_pool2d_with_indices         0.93%       1.915ms         0.93%       1.915ms     638.313us       1.32 Mb       1.32 Mb             3  \n",
      "                        aten::mul         0.11%     216.611us         0.14%     298.066us      37.258us       1.44 Mb       1.00 Mb             8  \n",
      "                        aten::bmm         0.23%     473.140us         0.23%     474.482us     237.241us     853.12 Kb     853.12 Kb             2  \n",
      "                    aten::resize_         0.11%     235.082us         0.11%     235.082us       2.218us     826.61 Kb     826.61 Kb           106  \n",
      "                   aten::_softmax         0.22%     457.599us         0.36%     737.020us     368.510us       2.22 Mb     703.12 Kb             2  \n",
      "                         aten::mm         0.22%     455.486us         0.22%     456.768us     456.768us     450.00 Kb     450.00 Kb             1  \n",
      "                        aten::sub         0.04%      74.511us         0.04%      74.511us      14.902us     148.11 Kb     148.11 Kb             5  \n",
      "                        aten::div         0.02%      37.020us         0.03%      68.219us      34.110us      98.44 Kb      98.43 Kb             2  \n",
      "                      aten::index         0.04%      72.839us         0.08%     154.825us      51.608us      35.78 Kb      34.88 Kb             3  \n",
      "                       aten::amax         0.20%     413.886us         0.20%     421.431us     421.431us      24.61 Kb      24.61 Kb             1  \n",
      "                         aten::gt         0.02%      51.187us         0.04%      85.723us      17.145us       6.22 Kb       6.21 Kb             5  \n",
      "                         aten::ge         0.01%      12.835us         0.01%      12.835us       6.418us       1.64 Kb       1.64 Kb             2  \n",
      "                         aten::lt         0.00%      10.019us         0.00%      10.019us       5.010us       1.64 Kb       1.64 Kb             2  \n",
      "                    aten::nonzero         0.03%      57.108us         0.03%      64.222us      32.111us         928 b         928 b             2  \n",
      "                        aten::max         0.01%      14.598us         0.01%      14.598us      14.598us         696 b         696 b             1  \n",
      "                       aten::sort         0.02%      35.605us         0.04%      74.521us      37.261us         768 b         256 b             2  \n",
      "                      aten::clamp         0.01%      18.866us         0.01%      19.417us       4.854us          96 b          96 b             4  \n",
      "                         aten::eq         0.01%      14.408us         0.01%      14.408us       4.803us          18 b          18 b             3  \n",
      "                 aten::lift_fresh         0.00%       1.503us         0.00%       1.503us       1.503us           0 b           0 b             1  \n",
      "                         aten::to         0.03%      53.980us         0.69%       1.415ms      48.799us       3.96 Mb           0 b            29  \n",
      "                   aten::_to_copy         0.07%     150.859us         0.66%       1.361ms      59.183us       3.96 Mb           0 b            23  \n",
      "                      aten::copy_         2.51%       5.168ms         2.51%       5.168ms      76.000us           0 b           0 b            68  \n",
      "                     aten::conv2d         0.45%     920.578us        63.08%     129.992ms       1.300ms      60.85 Mb           0 b           100  \n",
      "                aten::convolution         0.36%     735.623us        65.50%     134.977ms       1.336ms      65.54 Mb           0 b           101  \n",
      "         aten::mkldnn_convolution        55.31%     113.976ms        56.32%     116.057ms       1.319ms      60.04 Mb           0 b            88  \n",
      "                aten::as_strided_         0.29%     589.634us         0.29%     589.634us       6.479us           0 b           0 b            91  \n",
      "                      aten::silu_         6.75%      13.915ms         6.75%      13.915ms     161.803us           0 b           0 b            86  \n",
      "                      aten::chunk         0.02%      42.839us         0.15%     311.511us      31.151us           0 b           0 b            10  \n",
      "                      aten::split         0.02%      49.084us         0.13%     268.672us      26.867us           0 b           0 b            10  \n",
      "                     aten::narrow         0.15%     315.462us         0.42%     860.803us      10.627us           0 b           0 b            81  \n",
      "                      aten::slice         0.24%     493.399us         0.33%     680.897us       5.627us           0 b           0 b           121  \n",
      "                 aten::as_strided         0.12%     256.314us         0.12%     256.314us       1.288us           0 b           0 b           199  \n",
      "          aten::_nnpack_available         0.00%       7.765us         0.00%       7.765us       0.647us           0 b           0 b            12  \n",
      "                aten::thnn_conv2d         0.04%      91.740us         5.27%      10.860ms     905.012us     825.00 Kb           0 b            12  \n",
      "                       aten::view         0.08%     154.827us         0.08%     154.827us       3.686us           0 b           0 b            42  \n",
      "                    aten::reshape         0.03%      68.548us         0.08%     156.734us       7.837us     150.00 Kb           0 b            20  \n",
      "           aten::split_with_sizes         0.02%      34.314us         0.02%      44.054us      11.013us           0 b           0 b             4  \n",
      "                  aten::transpose         0.01%      20.179us         0.01%      27.693us       6.923us           0 b           0 b             4  \n",
      "                     aten::matmul         0.02%      42.131us         0.49%       1.018ms     339.405us       1.27 Mb           0 b             3  \n",
      "                     aten::expand         0.01%      13.705us         0.01%      17.493us       4.373us           0 b           0 b             4  \n",
      "             aten::_reshape_alias         0.00%       3.556us         0.00%       3.556us       0.889us           0 b           0 b             4  \n",
      "               aten::resolve_conj         0.00%       2.624us         0.00%       2.624us       0.375us           0 b           0 b             7  \n",
      "               aten::_unsafe_view         0.00%       4.178us         0.00%       4.178us       1.393us           0 b           0 b             3  \n",
      "                    aten::softmax         0.00%       8.877us         0.36%     745.897us     372.948us       2.22 Mb           0 b             2  \n",
      "                      aten::clone         0.03%      55.971us         1.82%       3.748ms     340.762us       7.84 Mb           0 b            11  \n",
      "                 aten::empty_like         0.02%      50.164us         0.05%     110.408us       9.201us       7.93 Mb           0 b            12  \n",
      "                 aten::contiguous         0.01%      19.455us         1.79%       3.692ms     410.225us       7.69 Mb           0 b             9  \n",
      "                       aten::ones         0.01%      12.784us         0.01%      20.669us      10.334us         560 b           0 b             2  \n",
      "                      aten::fill_         0.01%      15.770us         0.01%      15.770us       2.253us           0 b           0 b             7  \n",
      "           aten::conv_transpose2d         0.00%       9.759us         2.87%       5.915ms       5.915ms       4.69 Mb           0 b             1  \n",
      "                     aten::detach         0.00%       4.438us         0.00%       4.438us       2.219us           0 b           0 b             2  \n",
      "                  aten::unsqueeze         0.01%      18.446us         0.01%      25.940us       3.706us           0 b           0 b             7  \n",
      "                      aten::zeros         0.01%      10.380us         0.01%      20.349us       6.783us         522 b           0 b             3  \n",
      "                      aten::zero_         0.00%       2.905us         0.00%       5.039us       1.680us           0 b           0 b             3  \n",
      "                     aten::unbind         0.00%       9.759us         0.01%      27.883us       9.294us           0 b           0 b             3  \n",
      "                     aten::select         0.06%     120.597us         0.07%     148.693us       3.540us           0 b           0 b            42  \n",
      "                     aten::arange         0.02%      47.962us         0.05%     105.039us      13.130us       3.19 Kb           0 b             8  \n",
      "                      aten::alias         0.00%       2.335us         0.00%       2.335us       2.335us           0 b           0 b             1  \n",
      "                    aten::flatten         0.00%       0.521us         0.00%       0.521us       0.521us           0 b           0 b             1  \n",
      "                       aten::item         0.00%       8.285us         0.01%      10.951us       1.217us           0 b           0 b             9  \n",
      "        aten::_local_scalar_dense         0.00%       2.666us         0.00%       2.666us       0.296us           0 b           0 b             9  \n",
      "                        aten::gt_         0.25%     508.657us         0.26%     532.452us     532.452us           0 b          -4 b             1  \n",
      "                       aten::div_         0.16%     330.619us         0.18%     380.553us     190.276us           0 b          -8 b             2  \n",
      "                       aten::mul_         0.01%      22.342us         0.03%      57.498us      14.374us           0 b         -16 b             4  \n",
      "                       aten::sub_         0.01%      23.895us         0.03%      68.359us      17.090us           0 b         -16 b             4  \n",
      "                   aten::_unique2         0.01%      18.094us         0.04%      81.666us      81.666us          12 b         -96 b             1  \n",
      "                        aten::sum         0.01%      30.877us         0.03%      64.322us      21.441us          24 b        -120 b             3  \n",
      "                 torchvision::nms         0.02%      32.262us         0.07%     139.305us     139.305us         464 b      -2.32 Kb             1  \n",
      "                 aten::max_pool2d         0.01%      17.792us         0.94%       1.933ms     644.244us     450.00 Kb    -900.00 Kb             3  \n",
      "               aten::_convolution         2.03%       4.177ms        65.14%     134.242ms       1.329ms      65.54 Mb      -4.69 Mb           101  \n",
      "       aten::_slow_conv2d_forward         4.95%      10.211ms         5.23%      10.768ms     897.367us     825.00 Kb      -6.26 Mb            12  \n",
      "                  model_inference        17.03%      35.088ms       100.00%     206.085ms     206.085ms           0 b    -123.93 Mb             1  \n",
      "---------------------------------  ------------  ------------  ------------  ------------  ------------  ------------  ------------  ------------  \n",
      "Self CPU time total: 206.085ms\n",
      "\n"
     ]
    }
   ],
   "source": [
    "with profile(activities=[ProfilerActivity.CPU], profile_memory=True, record_shapes=True) as prof:\n",
    "    with record_function(\"model_inference\"):\n",
    "        model(img_path)\n",
    "\n",
    "print(prof.key_averages().table(sort_by=\"self_cpu_memory_usage\", row_limit=100))"
   ]
  },
  {
   "cell_type": "markdown",
   "metadata": {},
   "source": [
    "# Convert to ONNX"
   ]
  },
  {
   "cell_type": "code",
   "execution_count": 42,
   "metadata": {},
   "outputs": [
    {
     "name": "stdout",
     "output_type": "stream",
     "text": [
      "Ultralytics 8.3.75 🚀 Python-3.11.11 torch-2.6.0+cpu CPU (AMD Ryzen 7 3700U with Radeon Vega Mobile Gfx)\n",
      "\n",
      "\u001b[34m\u001b[1mPyTorch:\u001b[0m starting from '/container_root/ws/models/yolo11n-seg.pt' with input shape (1, 3, 640, 640) BCHW and output shape(s) ((1, 116, 8400), (1, 32, 160, 160)) (5.9 MB)\n",
      "\n",
      "\u001b[34m\u001b[1mONNX:\u001b[0m starting export with onnx 1.16.1 opset 19...\n",
      "\u001b[34m\u001b[1mONNX:\u001b[0m slimming with onnxslim 0.1.49...\n",
      "\u001b[34m\u001b[1mONNX:\u001b[0m export success ✅ 3.7s, saved as '/container_root/ws/models/yolo11n-seg.onnx' (11.2 MB)\n",
      "\n",
      "Export complete (4.3s)\n",
      "Results saved to \u001b[1m/container_root/ws/models\u001b[0m\n",
      "Predict:         yolo predict task=segment model=/container_root/ws/models/yolo11n-seg.onnx imgsz=640  \n",
      "Validate:        yolo val task=segment model=/container_root/ws/models/yolo11n-seg.onnx imgsz=640 data=/ultralytics/ultralytics/cfg/datasets/coco.yaml  \n",
      "Visualize:       https://netron.app\n"
     ]
    },
    {
     "data": {
      "text/plain": [
       "'/container_root/ws/models/yolo11n-seg.onnx'"
      ]
     },
     "execution_count": 42,
     "metadata": {},
     "output_type": "execute_result"
    }
   ],
   "source": [
    "model.export(format=\"onnx\")"
   ]
  },
  {
   "cell_type": "markdown",
   "metadata": {},
   "source": [
    "# VIsualize using Tensorboard"
   ]
  },
  {
   "cell_type": "code",
   "execution_count": null,
   "metadata": {},
   "outputs": [],
   "source": [
    "# # imports\n",
    "# import matplotlib.pyplot as plt\n",
    "# import numpy as np\n",
    "\n",
    "# import torch\n",
    "# import torchvision\n",
    "# import torchvision.transforms as transforms\n",
    "\n",
    "# import torch.nn as nn\n",
    "# import torch.nn.functional as F\n",
    "# import torch.optim as optim\n",
    "\n",
    "# # transforms\n",
    "# transform = transforms.Compose(\n",
    "#     [transforms.ToTensor(),\n",
    "#     transforms.Normalize((0.5,), (0.5,))])\n",
    "\n",
    "# # datasets\n",
    "# trainset = torchvision.datasets.FashionMNIST('./data',\n",
    "#     download=True,\n",
    "#     train=True,\n",
    "#     transform=transform)\n",
    "# testset = torchvision.datasets.FashionMNIST('./data',\n",
    "#     download=True,\n",
    "#     train=False,\n",
    "#     transform=transform)\n",
    "\n",
    "# # dataloaders\n",
    "# trainloader = torch.utils.data.DataLoader(trainset, batch_size=4,\n",
    "#                                         shuffle=True, num_workers=2)\n",
    "\n",
    "\n",
    "# testloader = torch.utils.data.DataLoader(testset, batch_size=4,\n",
    "#                                         shuffle=False, num_workers=2)\n",
    "\n",
    "# # constant for classes\n",
    "# classes = ('T-shirt/top', 'Trouser', 'Pullover', 'Dress', 'Coat',\n",
    "#         'Sandal', 'Shirt', 'Sneaker', 'Bag', 'Ankle Boot')\n",
    "\n",
    "# # helper function to show an image\n",
    "# # (used in the `plot_classes_preds` function below)\n",
    "# def matplotlib_imshow(img, one_channel=False):\n",
    "#     if one_channel:\n",
    "#         img = img.mean(dim=0)\n",
    "#     img = img / 2 + 0.5     # unnormalize\n",
    "#     npimg = img.numpy()\n",
    "#     if one_channel:\n",
    "#         plt.imshow(npimg, cmap=\"Greys\")\n",
    "#     else:\n",
    "#         plt.imshow(np.transpose(npimg, (1, 2, 0)))"
   ]
  },
  {
   "cell_type": "code",
   "execution_count": null,
   "metadata": {},
   "outputs": [],
   "source": [
    "# class Net(nn.Module):\n",
    "#     def __init__(self):\n",
    "#         super(Net, self).__init__()\n",
    "#         self.conv1 = nn.Conv2d(1, 6, 5)\n",
    "#         self.pool = nn.MaxPool2d(2, 2)\n",
    "#         self.conv2 = nn.Conv2d(6, 16, 5)\n",
    "#         self.fc1 = nn.Linear(16 * 4 * 4, 120)\n",
    "#         self.fc2 = nn.Linear(120, 84)\n",
    "#         self.fc3 = nn.Linear(84, 10)\n",
    "\n",
    "#     def forward(self, x):\n",
    "#         x = self.pool(F.relu(self.conv1(x)))\n",
    "#         x = self.pool(F.relu(self.conv2(x)))\n",
    "#         x = x.view(-1, 16 * 4 * 4)\n",
    "#         x = F.relu(self.fc1(x))\n",
    "#         x = F.relu(self.fc2(x))\n",
    "#         x = self.fc3(x)\n",
    "#         return x\n",
    "\n",
    "\n",
    "# net = Net()\n",
    "\n",
    "# criterion = nn.CrossEntropyLoss()\n",
    "# optimizer = optim.SGD(net.parameters(), lr=0.001, momentum=0.9)"
   ]
  },
  {
   "cell_type": "code",
   "execution_count": null,
   "metadata": {},
   "outputs": [],
   "source": [
    "# from torch.utils.tensorboard import SummaryWriter\n",
    "\n",
    "# # default `log_dir` is \"runs\" - we'll be more specific here\n",
    "# writer = SummaryWriter('runs/fashion_mnist_experiment_1')"
   ]
  },
  {
   "cell_type": "code",
   "execution_count": 40,
   "metadata": {},
   "outputs": [
    {
     "data": {
      "image/png": "[encoded data removed]",
      "text/plain": [
       "<Figure size 640x480 with 1 Axes>"
      ]
     },
     "metadata": {},
     "output_type": "display_data"
    }
   ],
   "source": [
    "# # get some random training images\n",
    "# dataiter = iter(trainloader)\n",
    "# images, labels = next(dataiter)\n",
    "\n",
    "# # create grid of images\n",
    "# img_grid = torchvision.utils.make_grid(images)\n",
    "\n",
    "# # show images\n",
    "# matplotlib_imshow(img_grid, one_channel=True)\n",
    "\n",
    "# # write to tensorboard\n",
    "# writer.add_image('four_fashion_mnist_images', img_grid)\n"
   ]
  },
  {
   "cell_type": "code",
   "execution_count": null,
   "metadata": {},
   "outputs": [],
   "source": [
    "# writer.add_graph(net, images)\n",
    "# writer.close()"
   ]
  }
 ],
 "metadata": {
  "kernelspec": {
   "display_name": "Python 3",
   "language": "python",
   "name": "python3"
  },
  "language_info": {
   "codemirror_mode": {
    "name": "ipython",
    "version": 3
   },
   "file_extension": ".py",
   "mimetype": "text/x-python",
   "name": "python",
   "nbconvert_exporter": "python",
   "pygments_lexer": "ipython3",
   "version": "3.11.11"
  }
 },
 "nbformat": 4,
 "nbformat_minor": 2
}
