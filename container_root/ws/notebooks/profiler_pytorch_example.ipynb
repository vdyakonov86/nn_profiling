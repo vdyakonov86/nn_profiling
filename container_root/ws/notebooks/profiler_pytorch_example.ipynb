{
 "cells": [
  {
   "cell_type": "code",
   "execution_count": 1,
   "metadata": {},
   "outputs": [],
   "source": [
    "import torch\n",
    "import torchvision.models as models\n",
    "from torch.profiler import profile, record_function, ProfilerActivity"
   ]
  },
  {
   "cell_type": "markdown",
   "metadata": {},
   "source": [
    "# Prepare model"
   ]
  },
  {
   "cell_type": "code",
   "execution_count": null,
   "metadata": {},
   "outputs": [],
   "source": [
    "model = models.resnet18()\n",
    "inputs = torch.randn(5, 3, 224, 224)"
   ]
  },
  {
   "cell_type": "markdown",
   "metadata": {},
   "source": [
    "# Analyze execution time"
   ]
  },
  {
   "cell_type": "code",
   "execution_count": 34,
   "metadata": {},
   "outputs": [
    {
     "name": "stdout",
     "output_type": "stream",
     "text": [
      "---------------------------------  ------------  ------------  ------------  ------------  ------------  ------------  --------------------------------------------------------------------------------  \n",
      "                             Name    Self CPU %      Self CPU   CPU total %     CPU total  CPU time avg    # of Calls                                                                      Input Shapes  \n",
      "---------------------------------  ------------  ------------  ------------  ------------  ------------  ------------  --------------------------------------------------------------------------------  \n",
      "                  model_inference         1.97%       6.585ms       100.00%     334.010ms     334.010ms             1                                                                                []  \n",
      "                     aten::conv2d         0.01%      49.401us        20.30%      67.796ms      16.949ms             4                             [[5, 64, 56, 56], [64, 64, 3, 3], [], [], [], [], []]  \n",
      "                aten::convolution         0.04%     135.239us        20.28%      67.746ms      16.937ms             4                     [[5, 64, 56, 56], [64, 64, 3, 3], [], [], [], [], [], [], []]  \n",
      "               aten::_convolution         0.02%      74.651us        20.24%      67.611ms      16.903ms             4     [[5, 64, 56, 56], [64, 64, 3, 3], [], [], [], [], [], [], [], [], [], [], []]  \n",
      "         aten::mkldnn_convolution        20.17%      67.361ms        20.22%      67.537ms      16.884ms             4                             [[5, 64, 56, 56], [64, 64, 3, 3], [], [], [], [], []]  \n",
      "                     aten::conv2d         0.01%      27.874us        15.28%      51.048ms      17.016ms             3                            [[5, 512, 7, 7], [512, 512, 3, 3], [], [], [], [], []]  \n",
      "                aten::convolution         0.02%      74.772us        15.27%      51.020ms      17.007ms             3                    [[5, 512, 7, 7], [512, 512, 3, 3], [], [], [], [], [], [], []]  \n",
      "               aten::_convolution         0.01%      45.036us        15.25%      50.945ms      16.982ms             3    [[5, 512, 7, 7], [512, 512, 3, 3], [], [], [], [], [], [], [], [], [], [], []]  \n",
      "         aten::mkldnn_convolution        15.22%      50.829ms        15.24%      50.900ms      16.967ms             3                            [[5, 512, 7, 7], [512, 512, 3, 3], [], [], [], [], []]  \n",
      "                     aten::conv2d         0.01%      26.970us        14.08%      47.018ms      15.673ms             3                          [[5, 256, 14, 14], [256, 256, 3, 3], [], [], [], [], []]  \n",
      "                aten::convolution         0.02%      79.563us        14.07%      46.991ms      15.664ms             3                  [[5, 256, 14, 14], [256, 256, 3, 3], [], [], [], [], [], [], []]  \n",
      "               aten::_convolution         0.01%      43.945us        14.04%      46.912ms      15.637ms             3  [[5, 256, 14, 14], [256, 256, 3, 3], [], [], [], [], [], [], [], [], [], [], []]  \n",
      "         aten::mkldnn_convolution        14.00%      46.775ms        14.03%      46.868ms      15.623ms             3                          [[5, 256, 14, 14], [256, 256, 3, 3], [], [], [], [], []]  \n",
      "                     aten::conv2d         0.01%      27.583us        12.45%      41.569ms      13.856ms             3                          [[5, 128, 28, 28], [128, 128, 3, 3], [], [], [], [], []]  \n",
      "                aten::convolution         0.02%      75.593us        12.44%      41.541ms      13.847ms             3                  [[5, 128, 28, 28], [128, 128, 3, 3], [], [], [], [], [], [], []]  \n",
      "               aten::_convolution         0.01%      41.229us        12.41%      41.466ms      13.822ms             3  [[5, 128, 28, 28], [128, 128, 3, 3], [], [], [], [], [], [], [], [], [], [], []]  \n",
      "         aten::mkldnn_convolution        12.38%      41.340ms        12.40%      41.424ms      13.808ms             3                          [[5, 128, 28, 28], [128, 128, 3, 3], [], [], [], [], []]  \n",
      "                     aten::conv2d         0.00%      11.581us        10.45%      34.900ms      34.900ms             1                             [[5, 3, 224, 224], [64, 3, 7, 7], [], [], [], [], []]  \n",
      "                aten::convolution         0.01%      44.124us        10.45%      34.889ms      34.889ms             1                     [[5, 3, 224, 224], [64, 3, 7, 7], [], [], [], [], [], [], []]  \n",
      "               aten::_convolution         0.01%      21.181us        10.43%      34.845ms      34.845ms             1     [[5, 3, 224, 224], [64, 3, 7, 7], [], [], [], [], [], [], [], [], [], [], []]  \n",
      "---------------------------------  ------------  ------------  ------------  ------------  ------------  ------------  --------------------------------------------------------------------------------  \n",
      "Self CPU time total: 334.010ms\n",
      "\n"
     ]
    }
   ],
   "source": [
    "with profile(activities=[ProfilerActivity.CPU], record_shapes=True) as prof:\n",
    "    with record_function(\"model_inference\"):\n",
    "        model(inputs)\n",
    "\n",
    "print(prof.key_averages(group_by_input_shape=True).table(sort_by=\"cpu_time_total\", row_limit=20))"
   ]
  },
  {
   "cell_type": "markdown",
   "metadata": {},
   "source": [
    "# Analyze memory consumption"
   ]
  },
  {
   "cell_type": "code",
   "execution_count": 14,
   "metadata": {},
   "outputs": [
    {
     "name": "stdout",
     "output_type": "stream",
     "text": [
      "---------------------------------  ------------  ------------  ------------  ------------  ------------  ------------  ------------  ------------  \n",
      "                             Name    Self CPU %      Self CPU   CPU total %     CPU total  CPU time avg       CPU Mem  Self CPU Mem    # of Calls  \n",
      "---------------------------------  ------------  ------------  ------------  ------------  ------------  ------------  ------------  ------------  \n",
      "                      aten::empty         0.22%     634.802us         0.22%     634.802us       3.174us      94.86 Mb      94.86 Mb           200  \n",
      "    aten::max_pool2d_with_indices         5.04%      14.575ms         5.04%      14.575ms      14.575ms      11.48 Mb      11.48 Mb             1  \n",
      "                      aten::addmm         0.10%     302.710us         0.11%     313.781us     313.781us      19.53 Kb      19.53 Kb             1  \n",
      "                       aten::mean         0.01%      16.561us         0.03%      82.726us      82.726us      10.00 Kb      10.00 Kb             1  \n",
      "              aten::empty_strided         0.00%       3.497us         0.00%       3.497us       3.497us           4 b           4 b             1  \n",
      "                     aten::conv2d         0.06%     176.483us        86.24%     249.169ms      12.458ms      47.37 Mb           0 b            20  \n",
      "                aten::convolution         0.20%     574.910us        86.18%     248.992ms      12.450ms      47.37 Mb           0 b            20  \n",
      "               aten::_convolution         0.10%     298.915us        85.98%     248.417ms      12.421ms      47.37 Mb           0 b            20  \n",
      "         aten::mkldnn_convolution        85.68%     247.549ms        85.88%     248.118ms      12.406ms      47.37 Mb           0 b            20  \n",
      "                aten::as_strided_         0.07%     190.361us         0.07%     190.361us       9.518us           0 b           0 b            20  \n",
      "---------------------------------  ------------  ------------  ------------  ------------  ------------  ------------  ------------  ------------  \n",
      "Self CPU time total: 288.910ms\n",
      "\n"
     ]
    }
   ],
   "source": [
    "with profile(activities=[ProfilerActivity.CPU],\n",
    "        profile_memory=True, record_shapes=True) as prof:\n",
    "    model(inputs)\n",
    "\n",
    "print(prof.key_averages().table(sort_by=\"self_cpu_memory_usage\", row_limit=10))\n",
    "# print(prof.key_averages().table(sort_by=\"cpu_memory_usage\", row_limit=10))"
   ]
  },
  {
   "cell_type": "markdown",
   "metadata": {},
   "source": [
    "# Tracing"
   ]
  },
  {
   "cell_type": "code",
   "execution_count": null,
   "metadata": {},
   "outputs": [],
   "source": [
    "# activities = [ProfilerActivity.CPU, ProfilerActivity.CUDA, ProfilerActivity.XPU]\n",
    "activities = [ProfilerActivity.CPU]\n",
    "with profile(activities=activities) as prof:\n",
    "    model(inputs)\n",
    "\n",
    "# Trace.json can be uploaded to: chrome://tracing/\n",
    "prof.export_chrome_trace(\"trace.json\")"
   ]
  },
  {
   "cell_type": "code",
   "execution_count": 37,
   "metadata": {},
   "outputs": [
    {
     "name": "stdout",
     "output_type": "stream",
     "text": [
      "---------------------------------  ------------  ------------  ------------  ------------  ------------  ------------  \n",
      "                             Name    Self CPU %      Self CPU   CPU total %     CPU total  CPU time avg    # of Calls  \n",
      "---------------------------------  ------------  ------------  ------------  ------------  ------------  ------------  \n",
      "                     aten::conv2d         0.06%     157.169us        81.88%     222.327ms      11.116ms            20  \n",
      "                aten::convolution         0.22%     603.283us        81.82%     222.170ms      11.109ms            20  \n",
      "               aten::_convolution         0.12%     326.985us        81.60%     221.567ms      11.078ms            20  \n",
      "         aten::mkldnn_convolution        81.17%     220.412ms        81.48%     221.240ms      11.062ms            20  \n",
      "                 aten::batch_norm         0.04%     107.433us         8.78%      23.831ms       1.192ms            20  \n",
      "     aten::_batch_norm_impl_index         0.07%     196.975us         8.74%      23.724ms       1.186ms            20  \n",
      "          aten::native_batch_norm         8.50%      23.090ms         8.65%      23.477ms       1.174ms            20  \n",
      "                 aten::max_pool2d         0.00%      11.091us         6.61%      17.940ms      17.940ms             1  \n",
      "    aten::max_pool2d_with_indices         6.60%      17.929ms         6.60%      17.929ms      17.929ms             1  \n",
      "                      aten::relu_         0.22%     594.763us         1.76%       4.790ms     281.768us            17  \n",
      "---------------------------------  ------------  ------------  ------------  ------------  ------------  ------------  \n",
      "Self CPU time total: 271.532ms\n",
      "\n"
     ]
    }
   ],
   "source": [
    "# sort_by_keywrod = \"self_\" + device + \"_time_total\"\n",
    "sort_by_keyword = \"cpu_time_total\"\n",
    "\n",
    "with profile(\n",
    "    activities=activities,\n",
    "    with_stack=True,\n",
    ") as prof:\n",
    "    model(inputs)\n",
    "\n",
    "# Print aggregated stats\n",
    "print(prof.key_averages(group_by_stack_n=5).table(sort_by=sort_by_keyword,row_limit=10))"
   ]
  },
  {
   "cell_type": "markdown",
   "metadata": {},
   "source": [
    "# Use scheduler for tracing"
   ]
  },
  {
   "cell_type": "code",
   "execution_count": 41,
   "metadata": {},
   "outputs": [
    {
     "name": "stdout",
     "output_type": "stream",
     "text": [
      "---------------------------------  ------------  ------------  ------------  ------------  ------------  ------------  \n",
      "                             Name    Self CPU %      Self CPU   CPU total %     CPU total  CPU time avg    # of Calls  \n",
      "---------------------------------  ------------  ------------  ------------  ------------  ------------  ------------  \n",
      "                    ProfilerStep*         2.91%      11.963ms       100.00%     411.323ms     205.662ms             2  \n",
      "                     aten::conv2d         0.07%     290.875us        80.47%     331.002ms       8.275ms            40  \n",
      "                aten::convolution         0.26%       1.086ms        80.40%     330.711ms       8.268ms            40  \n",
      "               aten::_convolution         0.15%     601.228us        80.14%     329.626ms       8.241ms            40  \n",
      "         aten::mkldnn_convolution        79.65%     327.617ms        79.99%     329.024ms       8.226ms            40  \n",
      "                 aten::batch_norm         0.05%     203.909us         7.15%      29.428ms     735.698us            40  \n",
      "     aten::_batch_norm_impl_index         0.09%     379.737us         7.10%      29.224ms     730.600us            40  \n",
      "          aten::native_batch_norm         6.83%      28.102ms         6.99%      28.750ms     718.753us            40  \n",
      "                 aten::max_pool2d         0.01%      57.140us         6.43%      26.428ms      13.214ms             2  \n",
      "    aten::max_pool2d_with_indices         6.41%      26.370ms         6.41%      26.370ms      13.185ms             2  \n",
      "---------------------------------  ------------  ------------  ------------  ------------  ------------  ------------  \n",
      "Self CPU time total: 411.323ms\n",
      "\n"
     ]
    }
   ],
   "source": [
    "sort_by_keyword = \"cpu_time_total\"\n",
    "\n",
    "def trace_handler(p):\n",
    "    output = p.key_averages().table(sort_by=sort_by_keyword, row_limit=10)\n",
    "    print(output)\n",
    "    p.export_chrome_trace(\"/tmp/trace_\" + str(p.step_num) + \".json\")\n",
    "\n",
    "with profile(\n",
    "    activities=activities,\n",
    "    schedule=torch.profiler.schedule(\n",
    "        wait=1,\n",
    "        warmup=1,\n",
    "        active=2),\n",
    "    on_trace_ready=trace_handler\n",
    ") as p:\n",
    "    for idx in range(4):\n",
    "        model(inputs)\n",
    "        p.step()"
   ]
  }
 ],
 "metadata": {
  "kernelspec": {
   "display_name": "Python 3",
   "language": "python",
   "name": "python3"
  },
  "language_info": {
   "codemirror_mode": {
    "name": "ipython",
    "version": 3
   },
   "file_extension": ".py",
   "mimetype": "text/x-python",
   "name": "python",
   "nbconvert_exporter": "python",
   "pygments_lexer": "ipython3",
   "version": "3.11.11"
  }
 },
 "nbformat": 4,
 "nbformat_minor": 2
}
