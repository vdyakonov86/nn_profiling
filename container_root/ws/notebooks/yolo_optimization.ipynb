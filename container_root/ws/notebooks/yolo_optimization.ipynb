{
 "cells": [
  {
   "cell_type": "code",
   "execution_count": null,
   "metadata": {},
   "outputs": [
    {
     "name": "stdout",
     "output_type": "stream",
     "text": [
      "Creating new Ultralytics Settings v0.0.6 file ✅ \n",
      "View Ultralytics Settings with 'yolo settings' or at '/home/ubuntu/.config/Ultralytics/settings.json'\n",
      "Update Settings with 'yolo settings key=value', i.e. 'yolo settings runs_dir=path/to/dir'. For help see https://docs.ultralytics.com/quickstart/#ultralytics-settings.\n"
     ]
    }
   ],
   "source": [
    "from torch import nn\n",
    "from torch.quantization import quantize_dynamic\n",
    "from torchvision.io import read_image \n",
    "from ultralytics import YOLO\n",
    "import torch\n",
    "\n",
    "import os\n",
    "import copy"
   ]
  },
  {
   "cell_type": "code",
   "execution_count": 85,
   "metadata": {},
   "outputs": [
    {
     "name": "stdout",
     "output_type": "stream",
     "text": [
      "Ultralytics 8.3.75 🚀 Python-3.11.11 torch-2.6.0+cpu CPU (AMD Ryzen 7 3700U with Radeon Vega Mobile Gfx)\n",
      "YOLO11n-seg summary (fused): 265 layers, 2,868,664 parameters, 0 gradients, 10.4 GFLOPs\n",
      "\n",
      "\u001b[34m\u001b[1mPyTorch:\u001b[0m starting from '/container_root/ws/models/yolo11n-seg.pt' with input shape (1, 3, 640, 640) BCHW and output shape(s) ((1, 116, 8400), (1, 32, 160, 160)) (5.9 MB)\n",
      "\n",
      "\u001b[34m\u001b[1mONNX:\u001b[0m starting export with onnx 1.16.1 opset 19...\n",
      "\u001b[34m\u001b[1mONNX:\u001b[0m slimming with onnxslim 0.1.49...\n",
      "\u001b[34m\u001b[1mONNX:\u001b[0m export success ✅ 3.3s, saved as '/container_root/ws/models/yolo11n-seg.onnx' (11.2 MB)\n",
      "\n",
      "Export complete (4.2s)\n",
      "Results saved to \u001b[1m/container_root/ws/models\u001b[0m\n",
      "Predict:         yolo predict task=segment model=/container_root/ws/models/yolo11n-seg.onnx imgsz=640  \n",
      "Validate:        yolo val task=segment model=/container_root/ws/models/yolo11n-seg.onnx imgsz=640 data=/ultralytics/ultralytics/cfg/datasets/coco.yaml  \n",
      "Visualize:       https://netron.app\n"
     ]
    },
    {
     "data": {
      "text/plain": [
       "'/container_root/ws/models/yolo11n-seg.onnx'"
      ]
     },
     "execution_count": 85,
     "metadata": {},
     "output_type": "execute_result"
    }
   ],
   "source": [
    "img_path = '/container_root/ws/notebooks/data/bus.jpg'\n",
    "model = YOLO('/container_root/ws/models/yolo11n-seg.pt')\n",
    "model.export(format='onnx')\n",
    "\n",
    "# model.info(detailed=True)\n",
    "# model(img_path)\n",
    "# print(model)\n",
    "# img = read_image(img_path)"
   ]
  },
  {
   "cell_type": "markdown",
   "metadata": {},
   "source": [
    "# Modules fulsion\n",
    "Currently torch.quantization.fuse_modules only fuses the following sequence of modules:\n",
    "- conv, bn\n",
    "- conv, bn, relu\n",
    "- conv, relu\n",
    "- linear, relu\n",
    "- bn, relu"
   ]
  },
  {
   "cell_type": "code",
   "execution_count": 84,
   "metadata": {},
   "outputs": [
    {
     "name": "stdout",
     "output_type": "stream",
     "text": [
      "YOLO11n-seg summary (fused): 265 layers, 2,868,664 parameters, 0 gradients, 10.4 GFLOPs\n",
      "Ultralytics 8.3.75 🚀 Python-3.11.11 torch-2.6.0+cpu CPU (AMD Ryzen 7 3700U with Radeon Vega Mobile Gfx)\n",
      "\n",
      "\u001b[34m\u001b[1mPyTorch:\u001b[0m starting from '/container_root/ws/models/yolo11n-seg.pt' with input shape (1, 3, 640, 640) BCHW and output shape(s) ((1, 116, 8400), (1, 32, 160, 160)) (5.9 MB)\n",
      "\n",
      "\u001b[34m\u001b[1mONNX:\u001b[0m starting export with onnx 1.16.1 opset 19...\n",
      "\u001b[34m\u001b[1mONNX:\u001b[0m slimming with onnxslim 0.1.49...\n",
      "\u001b[34m\u001b[1mONNX:\u001b[0m export success ✅ 3.4s, saved as '/container_root/ws/models/yolo11n-seg.onnx' (11.2 MB)\n",
      "\n",
      "Export complete (3.9s)\n",
      "Results saved to \u001b[1m/container_root/ws/models\u001b[0m\n",
      "Predict:         yolo predict task=segment model=/container_root/ws/models/yolo11n-seg.onnx imgsz=640  \n",
      "Validate:        yolo val task=segment model=/container_root/ws/models/yolo11n-seg.onnx imgsz=640 data=/ultralytics/ultralytics/cfg/datasets/coco.yaml  \n",
      "Visualize:       https://netron.app\n"
     ]
    },
    {
     "data": {
      "text/plain": [
       "'/container_root/ws/models/yolo11n-seg.onnx'"
      ]
     },
     "execution_count": 84,
     "metadata": {},
     "output_type": "execute_result"
    }
   ],
   "source": [
    "model = YOLO('/container_root/ws/models/yolo11n-seg.pt')\n",
    "# model.eval()\n",
    "model.fuse()\n",
    "model.export(format='onnx')\n",
    "# print(model)\n"
   ]
  },
  {
   "cell_type": "markdown",
   "metadata": {},
   "source": [
    "# Post-Training Static Quantization (PTQ)"
   ]
  },
  {
   "cell_type": "code",
   "execution_count": null,
   "metadata": {},
   "outputs": [
    {
     "ename": "TypeError",
     "evalue": "Value after * must be an iterable, not SegmentationModel",
     "output_type": "error",
     "traceback": [
      "\u001b[31m---------------------------------------------------------------------------\u001b[39m",
      "\u001b[31mTypeError\u001b[39m                                 Traceback (most recent call last)",
      "\u001b[36mCell\u001b[39m\u001b[36m \u001b[39m\u001b[32mIn[65]\u001b[39m\u001b[32m, line 3\u001b[39m\n\u001b[32m      1\u001b[39m model = YOLO(\u001b[33m'\u001b[39m\u001b[33m/container_root/ws/models/yolo11n-seg.pt\u001b[39m\u001b[33m'\u001b[39m)\n\u001b[32m----> \u001b[39m\u001b[32m3\u001b[39m model = nn.Sequential(torch.quantization.QuantStub(), *(model.model), torch.quantization.DeQuantStub())\n",
      "\u001b[31mTypeError\u001b[39m: Value after * must be an iterable, not SegmentationModel"
     ]
    }
   ],
   "source": [
    "model = YOLO('/container_root/ws/models/yolo11n-seg.pt')\n"
   ]
  },
  {
   "cell_type": "code",
   "execution_count": 87,
   "metadata": {},
   "outputs": [
    {
     "name": "stdout",
     "output_type": "stream",
     "text": [
      "Ultralytics 8.3.75 🚀 Python-3.11.11 torch-2.6.0+cpu CPU (AMD Ryzen 7 3700U with Radeon Vega Mobile Gfx)\n",
      "YOLO11n-seg summary (fused): 265 layers, 2,868,664 parameters, 0 gradients, 10.4 GFLOPs\n",
      "\n",
      "\u001b[34m\u001b[1mPyTorch:\u001b[0m starting from '/container_root/ws/models/yolo11n-seg.pt' with input shape (1, 3, 640, 640) BCHW and output shape(s) ((1, 116, 8400), (1, 32, 160, 160)) (5.9 MB)\n",
      "\n",
      "\u001b[34m\u001b[1mONNX:\u001b[0m starting export with onnx 1.16.1 opset 19...\n",
      "\u001b[34m\u001b[1mONNX:\u001b[0m slimming with onnxslim 0.1.49...\n",
      "\u001b[34m\u001b[1mONNX:\u001b[0m export success ✅ 3.7s, saved as '/container_root/ws/models/yolo11n-seg.onnx' (11.2 MB)\n",
      "\n",
      "Export complete (4.4s)\n",
      "Results saved to \u001b[1m/container_root/ws/models\u001b[0m\n",
      "Predict:         yolo predict task=segment model=/container_root/ws/models/yolo11n-seg.onnx imgsz=640  \n",
      "Validate:        yolo val task=segment model=/container_root/ws/models/yolo11n-seg.onnx imgsz=640 data=/ultralytics/ultralytics/cfg/datasets/coco.yaml  \n",
      "Visualize:       https://netron.app\n"
     ]
    },
    {
     "data": {
      "text/plain": [
       "'/container_root/ws/models/yolo11n-seg.onnx'"
      ]
     },
     "execution_count": 87,
     "metadata": {},
     "output_type": "execute_result"
    }
   ],
   "source": [
    "# model_quantized = quantize_dynamic(model=model_fused, qconfig_spec={nn.LSTM, nn.Linear}, dtype=torch.qint8, inplace=False)\n",
    "# model_quantized(img_path)\n",
    "model = YOLO('/container_root/ws/models/yolo11n-seg.pt')\n",
    "model_quantized_dynamic = quantize_dynamic(model=model, qconfig_spec={nn.LSTM, nn.Linear}, dtype=torch.qint8, inplace=False) \n",
    "model_quantized_dynamic.export(format='onnx')\n",
    "# model_quantized_dynamic(img_path)"
   ]
  },
  {
   "cell_type": "code",
   "execution_count": 91,
   "metadata": {},
   "outputs": [
    {
     "name": "stderr",
     "output_type": "stream",
     "text": [
      "WARNING:root:Please consider to run pre-processing before quantization. Refer to example: https://github.com/microsoft/onnxruntime-inference-examples/blob/main/quantization/image_classification/cpu/ReadMe.md \n"
     ]
    }
   ],
   "source": [
    "import onnx\n",
    "from onnxruntime.transformers import optimizer\n",
    "from onnxruntime.quantization import quantize_dynamic, QuantType\n",
    "\n",
    "input_model_path = '/container_root/ws/models/yolo11n-seg.onnx'\n",
    "mdoel = onnx.load(input_model_path)\n",
    "\n",
    "\n",
    "model_fp32 = input_model_path\n",
    "model_quant = '/container_root/ws/models/yolo11n-seg.quant.onnx'\n",
    "quantized_model = quantize_dynamic(model_fp32, model_quant)\n",
    "\n",
    "# optimized_model = optimizer.optimize_model(\n",
    "#   input=input_model_path,\n",
    "# \tnum_heads=0,        # Автоматическое определение параметров\n",
    "# \thidden_size=0,\n",
    "# \tmodel_type='bert',  # Несмотря на название, работает для CNN\n",
    "# \topt_level=99,       # Максимальная оптимизация\n",
    "# \toptimization_options=optimizer.OptimizationOptions(\n",
    "# \t\tenable_gelu=True,\n",
    "# \t\tenable_layer_norm=True,\n",
    "# \t\tenable_attention=True,\n",
    "# \t\tenable_skip_layer_norm=True,\n",
    "# \t\tenable_embed_layer_norm=True,\n",
    "# \t\tenable_bias_skip_layer_norm=True,\n",
    "# \t\tenable_bias_gelu=True\n",
    "# \t)\n",
    "# )\n"
   ]
  }
 ],
 "metadata": {
  "kernelspec": {
   "display_name": "Python 3",
   "language": "python",
   "name": "python3"
  },
  "language_info": {
   "codemirror_mode": {
    "name": "ipython",
    "version": 3
   },
   "file_extension": ".py",
   "mimetype": "text/x-python",
   "name": "python",
   "nbconvert_exporter": "python",
   "pygments_lexer": "ipython3",
   "version": "3.11.11"
  }
 },
 "nbformat": 4,
 "nbformat_minor": 2
}
