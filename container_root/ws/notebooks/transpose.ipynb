{
 "cells": [
  {
   "cell_type": "code",
   "execution_count": 1,
   "metadata": {},
   "outputs": [
    {
     "name": "stdout",
     "output_type": "stream",
     "text": [
      "Model save to static_quantized.trans.onnx\n"
     ]
    }
   ],
   "source": [
    "import onnx\n",
    "import onnx.helper as helper\n",
    "import sys\n",
    "import os\n",
    "\n",
    "# file = 'yolo11n-seg-fused.onnx'\n",
    "\n",
    "file = 'static_quantized.onnx'\n",
    "# prefix, suffix = os.path.splitext(file)\n",
    "# dst = prefix + \".trans\" + suffix\n",
    "dst = 'static_quantized.trans.onnx'\n",
    "\n",
    "model = onnx.load(file)\n",
    "node  = model.graph.node[-1]\n",
    "\n",
    "old_output = node.output[0]\n",
    "node.output[0] = \"pre_transpose\"\n",
    "\n",
    "for specout in model.graph.output:\n",
    "\t\tif specout.name == old_output:\n",
    "\t\t\t\tshape0 = specout.type.tensor_type.shape.dim[0]\n",
    "\t\t\t\tshape1 = specout.type.tensor_type.shape.dim[1]\n",
    "\t\t\t\tshape2 = specout.type.tensor_type.shape.dim[2]\n",
    "\t\t\t\tnew_out = helper.make_tensor_value_info(\n",
    "\t\t\t\t\t\tspecout.name,\n",
    "\t\t\t\t\t\tspecout.type.tensor_type.elem_type,\n",
    "\t\t\t\t\t\t[0, 0, 0]\n",
    "\t\t\t\t)\n",
    "\t\t\t\tnew_out.type.tensor_type.shape.dim[0].CopyFrom(shape0)\n",
    "\t\t\t\tnew_out.type.tensor_type.shape.dim[2].CopyFrom(shape1)\n",
    "\t\t\t\tnew_out.type.tensor_type.shape.dim[1].CopyFrom(shape2)\n",
    "\t\t\t\tspecout.CopyFrom(new_out)\n",
    "\n",
    "model.graph.node.append(\n",
    "\t\thelper.make_node(\"Transpose\", [\"pre_transpose\"], [old_output], perm=[0, 2, 1])\n",
    ")\n",
    "\n",
    "print(f\"Model save to {dst}\")\n",
    "onnx.save(model, dst)"
   ]
  }
 ],
 "metadata": {
  "kernelspec": {
   "display_name": "Python 3",
   "language": "python",
   "name": "python3"
  },
  "language_info": {
   "codemirror_mode": {
    "name": "ipython",
    "version": 3
   },
   "file_extension": ".py",
   "mimetype": "text/x-python",
   "name": "python",
   "nbconvert_exporter": "python",
   "pygments_lexer": "ipython3",
   "version": "3.11.11"
  }
 },
 "nbformat": 4,
 "nbformat_minor": 2
}
